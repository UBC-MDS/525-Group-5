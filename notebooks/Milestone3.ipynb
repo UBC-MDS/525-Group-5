{
 "cells": [
  {
   "attachments": {},
   "cell_type": "markdown",
   "metadata": {},
   "source": [
    "# Milestone 3\n",
    "\n",
    "In this milestone, we are using Apache Spark to run the analysis. We make use of the managed instance on [AWS EMR](https://aws.amazon.com/emr/) to achieve this."
   ]
  },
  {
   "attachments": {},
   "cell_type": "markdown",
   "metadata": {},
   "source": [
    "## Setup EMR Cluster\n",
    "\n",
    "An EMR Clsuter is set-up, with Spark, Hadoop, JupyterEnterpriseGateway, and Livy installed.\n",
    "\n",
    "![Screenshot showing the EMR Cluster](images/m3-aws-console-emr.png)"
   ]
  },
  {
   "attachments": {},
   "cell_type": "markdown",
   "metadata": {},
   "source": [
    "## Develop a ML model using `scikit-learn`\n",
    "\n",
    "We use `RandomForestRegressor` to create an ensemble model. See [`Milestone3-task3.ipynb`](Milestone3-task3.ipynb) for more information."
   ]
  },
  {
   "attachments": {},
   "cell_type": "markdown",
   "metadata": {},
   "source": [
    "## Obtain best hyperparameter\n",
    "\n",
    "With MLlib (Apache Spark), we use it to tune the hyperparameter of a deployment model. See [`Milestone3-task4.ipynb`](Milestone3-task4.ipynb) for more information."
   ]
  },
  {
   "attachments": {},
   "cell_type": "markdown",
   "metadata": {},
   "source": [
    "## Deployed model\n",
    "\n",
    "The deployed model is now uploaded to `s3://mds-s3-5-xxx/output/model.joblib`.\n",
    "\n",
    "![Screenshot showing the deployed `model.joblib`](images/m3-aws-console-s3.png)"
   ]
  }
 ],
 "metadata": {
  "language_info": {
   "name": "python"
  },
  "orig_nbformat": 4
 },
 "nbformat": 4,
 "nbformat_minor": 2
}
