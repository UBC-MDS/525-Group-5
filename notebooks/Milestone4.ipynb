{
 "cells": [
  {
   "attachments": {},
   "cell_type": "markdown",
   "metadata": {},
   "source": [
    "# Milestone 4\n",
    "\n",
    "In this milestone, we are deploying our learned model to Amazon EC2. We are using Flask to host the API."
   ]
  },
  {
   "attachments": {},
   "cell_type": "markdown",
   "metadata": {},
   "source": [
    "## Develop the API\n",
    "\n",
    "Here, we have created a simple Flask application that would return a prediction value at a `POST` endpoint.\n",
    "\n",
    "We downloaded the `model.joblib` from Milestone 3, installed the dependencies (`flask`, `scikit-learn`, `pandas`), and placed that at a project directory. We saved the code below as `main.py` and placed that at the project directory as well. Then we run:\n",
    "\n",
    "```\n",
    "flask --app main --host 0.0.0.0 --debug\n",
    "```"
   ]
  },
  {
   "cell_type": "code",
   "execution_count": 1,
   "metadata": {},
   "outputs": [],
   "source": [
    "#! pip install flask scikit-learn joblib pandas"
   ]
  },
  {
   "cell_type": "code",
   "execution_count": 2,
   "metadata": {},
   "outputs": [],
   "source": [
    "from flask import Flask, request, jsonify\n",
    "import joblib\n",
    "import pandas as pd\n",
    "\n",
    "app = Flask(__name__)\n",
    "\n",
    "model = joblib.load(\"model.joblib\")\n",
    "\n",
    "def compute_prediction(data):\n",
    "    df = pd.DataFrame(data).T\n",
    "    return model.predict(df).tolist()\n",
    "\n",
    "@app.route(\"/\")\n",
    "def index():\n",
    "    return \"\"\"\n",
    "    <h1>Rain Prediction Service</h1>\n",
    "    <p>\n",
    "        <strong>Usage</strong>:<br />\n",
    "        Make a JSON post request to the /predict url with 25 climate model outputs.\n",
    "    </p>\n",
    "    <p>\n",
    "        <strong>Example</strong>:<br />\n",
    "        <code>curl http://127.0.0.1:5000/predict\n",
    "            -d '{\"data\":[1,2,3,4,53,11,22,37,41,53,11,24,31,44,53,11,22,35,42,53,12,23,31,42,53]}'\n",
    "            -H \"Content-Type: application/json\"\n",
    "        </code>\n",
    "    </p>\n",
    "    \"\"\"\n",
    "\n",
    "@app.route('/predict', methods=['POST'])\n",
    "def rainfall_prediction():\n",
    "    content = request.json\n",
    "    prediction = compute_prediction(content[\"data\"])\n",
    "    results = {\n",
    "        \"prediction\": prediction,\n",
    "        \"input\": content[\"data\"]\n",
    "    }\n",
    "    return jsonify(results)"
   ]
  },
  {
   "attachments": {},
   "cell_type": "markdown",
   "metadata": {},
   "source": [
    "## Deploy the API\n",
    "\n",
    "We have used AWS EC2 for this lab. After making sure that the security group allows the port that we need (`5000` in our case here), we run the Flask app. Here is a screenshot showing the API in action.\n",
    "\n",
    "![Screenshot showing the browser output of the `/` endpoint](images/m4-browser.png)\n",
    "\n",
    "![Screenshot showing the curl output of the `/predict` endpoint](images/m4-curl.png)"
   ]
  },
  {
   "attachments": {},
   "cell_type": "markdown",
   "metadata": {},
   "source": [
    "## Milestone Summaries\n",
    "\n",
    "This is a summary of what we have done across the milestones:"
   ]
  },
  {
   "cell_type": "markdown",
   "metadata": {},
   "source": [
    "**Milestone 1**: WIP"
   ]
  },
  {
   "attachments": {},
   "cell_type": "markdown",
   "metadata": {},
   "source": [
    "**Milestone 2**: WIP"
   ]
  },
  {
   "attachments": {},
   "cell_type": "markdown",
   "metadata": {},
   "source": [
    "**Milestone 3**: WIP"
   ]
  },
  {
   "attachments": {},
   "cell_type": "markdown",
   "metadata": {},
   "source": [
    "**Milestone 4**: WIP"
   ]
  }
 ],
 "metadata": {
  "kernelspec": {
   "display_name": "dsci525",
   "language": "python",
   "name": "python3"
  },
  "language_info": {
   "codemirror_mode": {
    "name": "ipython",
    "version": 3
   },
   "file_extension": ".py",
   "mimetype": "text/x-python",
   "name": "python",
   "nbconvert_exporter": "python",
   "pygments_lexer": "ipython3",
   "version": "3.10.10"
  },
  "orig_nbformat": 4
 },
 "nbformat": 4,
 "nbformat_minor": 2
}
