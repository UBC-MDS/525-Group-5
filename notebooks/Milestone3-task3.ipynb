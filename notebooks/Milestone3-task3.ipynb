{
 "cells": [
  {
   "attachments": {},
   "cell_type": "markdown",
   "metadata": {},
   "source": [
    "# Milestone 3 (Task 3)\n",
    "\n",
    "This notebook is part of Milestone 3, where we develop a machine learning model locally."
   ]
  },
  {
   "cell_type": "code",
   "execution_count": 1,
   "metadata": {},
   "outputs": [],
   "source": [
    "import numpy as np\n",
    "import pandas as pd\n",
    "from joblib import dump, load\n",
    "from sklearn.metrics import mean_squared_error\n",
    "from sklearn.ensemble import RandomForestRegressor\n",
    "from sklearn.model_selection import train_test_split\n",
    "import matplotlib.pyplot as plt"
   ]
  },
  {
   "cell_type": "code",
   "execution_count": 2,
   "metadata": {},
   "outputs": [],
   "source": [
    "plt.style.use('ggplot')\n",
    "plt.rcParams.update({'font.size': 16, 'axes.labelweight': 'bold', 'figure.figsize': (8,6)})"
   ]
  },
  {
   "cell_type": "code",
   "execution_count": 3,
   "metadata": {},
   "outputs": [],
   "source": [
    "s3_bucket_name = 'mds-s3-5-xxx'"
   ]
  },
  {
   "cell_type": "code",
   "execution_count": 4,
   "metadata": {},
   "outputs": [],
   "source": [
    "target_column = \"Observed\""
   ]
  },
  {
   "cell_type": "code",
   "execution_count": 5,
   "metadata": {},
   "outputs": [],
   "source": [
    "random_state = 123"
   ]
  },
  {
   "attachments": {},
   "cell_type": "markdown",
   "metadata": {},
   "source": [
    "## Part 1\n",
    "\n",
    "Here, we train ensemble machine learning model from the `ml_data_SYD.csv` prepared from the last Milestone."
   ]
  },
  {
   "attachments": {},
   "cell_type": "markdown",
   "metadata": {},
   "source": [
    "### Read CSV from S3"
   ]
  },
  {
   "cell_type": "code",
   "execution_count": 6,
   "metadata": {},
   "outputs": [],
   "source": [
    "df = pd.read_csv(f\"s3://{s3_bucket_name}/output/ml_data_SYD.csv\", index_col=0, parse_dates=True)"
   ]
  },
  {
   "cell_type": "code",
   "execution_count": 7,
   "metadata": {},
   "outputs": [
    {
     "data": {
      "text/plain": [
       "(46020, 26)"
      ]
     },
     "execution_count": 7,
     "metadata": {},
     "output_type": "execute_result"
    }
   ],
   "source": [
    "df.shape"
   ]
  },
  {
   "attachments": {},
   "cell_type": "markdown",
   "metadata": {},
   "source": [
    "### Drop NA Rows"
   ]
  },
  {
   "cell_type": "code",
   "execution_count": 8,
   "metadata": {},
   "outputs": [
    {
     "data": {
      "text/plain": [
       "ACCESS-CM2           0\n",
       "ACCESS-ESM1-5        0\n",
       "AWI-ESM-1-1-LR       0\n",
       "BCC-CSM2-MR         30\n",
       "BCC-ESM1            30\n",
       "CMCC-CM2-HR4        30\n",
       "CMCC-CM2-SR5        30\n",
       "CMCC-ESM2           30\n",
       "CanESM5             30\n",
       "EC-Earth3-Veg-LR     0\n",
       "FGOALS-g3           30\n",
       "GFDL-CM4            30\n",
       "INM-CM4-8           30\n",
       "INM-CM5-0           30\n",
       "KIOST-ESM           30\n",
       "MIROC6               0\n",
       "MPI-ESM-1-2-HAM      0\n",
       "MPI-ESM1-2-HR        0\n",
       "MPI-ESM1-2-LR        0\n",
       "MRI-ESM2-0           0\n",
       "NESM3                0\n",
       "NorESM2-LM          30\n",
       "NorESM2-MM          30\n",
       "SAM0-UNICON         31\n",
       "TaiESM1             30\n",
       "Observed             0\n",
       "dtype: int64"
      ]
     },
     "execution_count": 8,
     "metadata": {},
     "output_type": "execute_result"
    }
   ],
   "source": [
    "df.isnull().sum()"
   ]
  },
  {
   "cell_type": "code",
   "execution_count": 9,
   "metadata": {},
   "outputs": [],
   "source": [
    "df = df.dropna(axis = 0)"
   ]
  },
  {
   "cell_type": "code",
   "execution_count": 10,
   "metadata": {},
   "outputs": [
    {
     "data": {
      "text/plain": [
       "ACCESS-CM2          0\n",
       "ACCESS-ESM1-5       0\n",
       "AWI-ESM-1-1-LR      0\n",
       "BCC-CSM2-MR         0\n",
       "BCC-ESM1            0\n",
       "CMCC-CM2-HR4        0\n",
       "CMCC-CM2-SR5        0\n",
       "CMCC-ESM2           0\n",
       "CanESM5             0\n",
       "EC-Earth3-Veg-LR    0\n",
       "FGOALS-g3           0\n",
       "GFDL-CM4            0\n",
       "INM-CM4-8           0\n",
       "INM-CM5-0           0\n",
       "KIOST-ESM           0\n",
       "MIROC6              0\n",
       "MPI-ESM-1-2-HAM     0\n",
       "MPI-ESM1-2-HR       0\n",
       "MPI-ESM1-2-LR       0\n",
       "MRI-ESM2-0          0\n",
       "NESM3               0\n",
       "NorESM2-LM          0\n",
       "NorESM2-MM          0\n",
       "SAM0-UNICON         0\n",
       "TaiESM1             0\n",
       "Observed            0\n",
       "dtype: int64"
      ]
     },
     "execution_count": 10,
     "metadata": {},
     "output_type": "execute_result"
    }
   ],
   "source": [
    "df.isnull().sum()"
   ]
  },
  {
   "attachments": {},
   "cell_type": "markdown",
   "metadata": {},
   "source": [
    "### Split the Data into Training/Test Data"
   ]
  },
  {
   "cell_type": "code",
   "execution_count": 11,
   "metadata": {},
   "outputs": [],
   "source": [
    "train_df, test_df = train_test_split(df, test_size=0.2, random_state=random_state)"
   ]
  },
  {
   "cell_type": "code",
   "execution_count": 12,
   "metadata": {},
   "outputs": [
    {
     "data": {
      "text/plain": [
       "(36791, 26)"
      ]
     },
     "execution_count": 12,
     "metadata": {},
     "output_type": "execute_result"
    }
   ],
   "source": [
    "train_df.shape"
   ]
  },
  {
   "cell_type": "code",
   "execution_count": 13,
   "metadata": {},
   "outputs": [
    {
     "data": {
      "text/plain": [
       "(9198, 26)"
      ]
     },
     "execution_count": 13,
     "metadata": {},
     "output_type": "execute_result"
    }
   ],
   "source": [
    "test_df.shape"
   ]
  },
  {
   "attachments": {},
   "cell_type": "markdown",
   "metadata": {},
   "source": [
    "### Perform EDA\n",
    "\n",
    "Here, we try to look at the statistical summaries across the different prediction models and the observed values."
   ]
  },
  {
   "cell_type": "code",
   "execution_count": 14,
   "metadata": {},
   "outputs": [
    {
     "data": {
      "text/html": [
       "<div>\n",
       "<style scoped>\n",
       "    .dataframe tbody tr th:only-of-type {\n",
       "        vertical-align: middle;\n",
       "    }\n",
       "\n",
       "    .dataframe tbody tr th {\n",
       "        vertical-align: top;\n",
       "    }\n",
       "\n",
       "    .dataframe thead th {\n",
       "        text-align: right;\n",
       "    }\n",
       "</style>\n",
       "<table border=\"1\" class=\"dataframe\">\n",
       "  <thead>\n",
       "    <tr style=\"text-align: right;\">\n",
       "      <th></th>\n",
       "      <th>count</th>\n",
       "      <th>mean</th>\n",
       "      <th>std</th>\n",
       "      <th>min</th>\n",
       "      <th>25%</th>\n",
       "      <th>50%</th>\n",
       "      <th>75%</th>\n",
       "      <th>max</th>\n",
       "    </tr>\n",
       "  </thead>\n",
       "  <tbody>\n",
       "    <tr>\n",
       "      <th>ACCESS-CM2</th>\n",
       "      <td>36791.0</td>\n",
       "      <td>2.429</td>\n",
       "      <td>6.791</td>\n",
       "      <td>0.0</td>\n",
       "      <td>0.054</td>\n",
       "      <td>0.193</td>\n",
       "      <td>1.445</td>\n",
       "      <td>149.968</td>\n",
       "    </tr>\n",
       "    <tr>\n",
       "      <th>ACCESS-ESM1-5</th>\n",
       "      <td>36791.0</td>\n",
       "      <td>2.939</td>\n",
       "      <td>7.049</td>\n",
       "      <td>0.0</td>\n",
       "      <td>0.021</td>\n",
       "      <td>0.493</td>\n",
       "      <td>2.399</td>\n",
       "      <td>157.606</td>\n",
       "    </tr>\n",
       "    <tr>\n",
       "      <th>AWI-ESM-1-1-LR</th>\n",
       "      <td>36791.0</td>\n",
       "      <td>3.716</td>\n",
       "      <td>7.281</td>\n",
       "      <td>0.0</td>\n",
       "      <td>0.030</td>\n",
       "      <td>0.592</td>\n",
       "      <td>3.602</td>\n",
       "      <td>89.466</td>\n",
       "    </tr>\n",
       "    <tr>\n",
       "      <th>BCC-CSM2-MR</th>\n",
       "      <td>36791.0</td>\n",
       "      <td>2.203</td>\n",
       "      <td>6.518</td>\n",
       "      <td>0.0</td>\n",
       "      <td>0.001</td>\n",
       "      <td>0.096</td>\n",
       "      <td>1.319</td>\n",
       "      <td>134.465</td>\n",
       "    </tr>\n",
       "    <tr>\n",
       "      <th>BCC-ESM1</th>\n",
       "      <td>36791.0</td>\n",
       "      <td>2.748</td>\n",
       "      <td>5.997</td>\n",
       "      <td>0.0</td>\n",
       "      <td>0.002</td>\n",
       "      <td>0.299</td>\n",
       "      <td>2.478</td>\n",
       "      <td>87.135</td>\n",
       "    </tr>\n",
       "    <tr>\n",
       "      <th>CMCC-CM2-HR4</th>\n",
       "      <td>36791.0</td>\n",
       "      <td>3.093</td>\n",
       "      <td>6.459</td>\n",
       "      <td>0.0</td>\n",
       "      <td>0.138</td>\n",
       "      <td>0.634</td>\n",
       "      <td>3.183</td>\n",
       "      <td>124.952</td>\n",
       "    </tr>\n",
       "    <tr>\n",
       "      <th>CMCC-CM2-SR5</th>\n",
       "      <td>36791.0</td>\n",
       "      <td>3.575</td>\n",
       "      <td>7.353</td>\n",
       "      <td>-0.0</td>\n",
       "      <td>0.089</td>\n",
       "      <td>0.828</td>\n",
       "      <td>3.728</td>\n",
       "      <td>140.148</td>\n",
       "    </tr>\n",
       "    <tr>\n",
       "      <th>CMCC-ESM2</th>\n",
       "      <td>36791.0</td>\n",
       "      <td>3.490</td>\n",
       "      <td>7.039</td>\n",
       "      <td>-0.0</td>\n",
       "      <td>0.093</td>\n",
       "      <td>0.849</td>\n",
       "      <td>3.630</td>\n",
       "      <td>137.592</td>\n",
       "    </tr>\n",
       "    <tr>\n",
       "      <th>CanESM5</th>\n",
       "      <td>36791.0</td>\n",
       "      <td>2.879</td>\n",
       "      <td>6.899</td>\n",
       "      <td>0.0</td>\n",
       "      <td>0.022</td>\n",
       "      <td>0.338</td>\n",
       "      <td>2.559</td>\n",
       "      <td>135.570</td>\n",
       "    </tr>\n",
       "    <tr>\n",
       "      <th>EC-Earth3-Veg-LR</th>\n",
       "      <td>36791.0</td>\n",
       "      <td>2.565</td>\n",
       "      <td>5.733</td>\n",
       "      <td>-0.0</td>\n",
       "      <td>0.012</td>\n",
       "      <td>0.430</td>\n",
       "      <td>2.296</td>\n",
       "      <td>96.424</td>\n",
       "    </tr>\n",
       "    <tr>\n",
       "      <th>FGOALS-g3</th>\n",
       "      <td>36791.0</td>\n",
       "      <td>1.736</td>\n",
       "      <td>4.473</td>\n",
       "      <td>0.0</td>\n",
       "      <td>0.027</td>\n",
       "      <td>0.285</td>\n",
       "      <td>1.336</td>\n",
       "      <td>105.090</td>\n",
       "    </tr>\n",
       "    <tr>\n",
       "      <th>GFDL-CM4</th>\n",
       "      <td>36791.0</td>\n",
       "      <td>1.804</td>\n",
       "      <td>5.715</td>\n",
       "      <td>0.0</td>\n",
       "      <td>0.004</td>\n",
       "      <td>0.121</td>\n",
       "      <td>0.947</td>\n",
       "      <td>123.151</td>\n",
       "    </tr>\n",
       "    <tr>\n",
       "      <th>INM-CM4-8</th>\n",
       "      <td>36791.0</td>\n",
       "      <td>3.860</td>\n",
       "      <td>7.555</td>\n",
       "      <td>0.0</td>\n",
       "      <td>0.115</td>\n",
       "      <td>1.220</td>\n",
       "      <td>4.206</td>\n",
       "      <td>134.262</td>\n",
       "    </tr>\n",
       "    <tr>\n",
       "      <th>INM-CM5-0</th>\n",
       "      <td>36791.0</td>\n",
       "      <td>4.079</td>\n",
       "      <td>8.280</td>\n",
       "      <td>0.0</td>\n",
       "      <td>0.082</td>\n",
       "      <td>1.166</td>\n",
       "      <td>4.261</td>\n",
       "      <td>133.974</td>\n",
       "    </tr>\n",
       "    <tr>\n",
       "      <th>KIOST-ESM</th>\n",
       "      <td>36791.0</td>\n",
       "      <td>1.683</td>\n",
       "      <td>4.262</td>\n",
       "      <td>0.0</td>\n",
       "      <td>0.020</td>\n",
       "      <td>0.292</td>\n",
       "      <td>1.571</td>\n",
       "      <td>100.232</td>\n",
       "    </tr>\n",
       "    <tr>\n",
       "      <th>MIROC6</th>\n",
       "      <td>36791.0</td>\n",
       "      <td>3.117</td>\n",
       "      <td>7.798</td>\n",
       "      <td>0.0</td>\n",
       "      <td>0.019</td>\n",
       "      <td>0.351</td>\n",
       "      <td>2.291</td>\n",
       "      <td>167.150</td>\n",
       "    </tr>\n",
       "    <tr>\n",
       "      <th>MPI-ESM-1-2-HAM</th>\n",
       "      <td>36791.0</td>\n",
       "      <td>3.214</td>\n",
       "      <td>6.979</td>\n",
       "      <td>0.0</td>\n",
       "      <td>0.000</td>\n",
       "      <td>0.208</td>\n",
       "      <td>2.699</td>\n",
       "      <td>93.068</td>\n",
       "    </tr>\n",
       "    <tr>\n",
       "      <th>MPI-ESM1-2-HR</th>\n",
       "      <td>36791.0</td>\n",
       "      <td>1.299</td>\n",
       "      <td>4.891</td>\n",
       "      <td>0.0</td>\n",
       "      <td>0.000</td>\n",
       "      <td>0.002</td>\n",
       "      <td>0.347</td>\n",
       "      <td>109.501</td>\n",
       "    </tr>\n",
       "    <tr>\n",
       "      <th>MPI-ESM1-2-LR</th>\n",
       "      <td>36791.0</td>\n",
       "      <td>2.041</td>\n",
       "      <td>5.348</td>\n",
       "      <td>0.0</td>\n",
       "      <td>0.000</td>\n",
       "      <td>0.114</td>\n",
       "      <td>1.192</td>\n",
       "      <td>74.844</td>\n",
       "    </tr>\n",
       "    <tr>\n",
       "      <th>MRI-ESM2-0</th>\n",
       "      <td>36791.0</td>\n",
       "      <td>1.533</td>\n",
       "      <td>5.000</td>\n",
       "      <td>0.0</td>\n",
       "      <td>0.000</td>\n",
       "      <td>0.032</td>\n",
       "      <td>0.673</td>\n",
       "      <td>101.690</td>\n",
       "    </tr>\n",
       "    <tr>\n",
       "      <th>NESM3</th>\n",
       "      <td>36791.0</td>\n",
       "      <td>1.727</td>\n",
       "      <td>4.873</td>\n",
       "      <td>0.0</td>\n",
       "      <td>0.000</td>\n",
       "      <td>0.050</td>\n",
       "      <td>0.787</td>\n",
       "      <td>80.458</td>\n",
       "    </tr>\n",
       "    <tr>\n",
       "      <th>NorESM2-LM</th>\n",
       "      <td>36791.0</td>\n",
       "      <td>2.458</td>\n",
       "      <td>5.815</td>\n",
       "      <td>0.0</td>\n",
       "      <td>0.005</td>\n",
       "      <td>0.170</td>\n",
       "      <td>1.823</td>\n",
       "      <td>114.898</td>\n",
       "    </tr>\n",
       "    <tr>\n",
       "      <th>NorESM2-MM</th>\n",
       "      <td>36791.0</td>\n",
       "      <td>2.890</td>\n",
       "      <td>7.129</td>\n",
       "      <td>0.0</td>\n",
       "      <td>0.010</td>\n",
       "      <td>0.256</td>\n",
       "      <td>2.451</td>\n",
       "      <td>163.165</td>\n",
       "    </tr>\n",
       "    <tr>\n",
       "      <th>SAM0-UNICON</th>\n",
       "      <td>36791.0</td>\n",
       "      <td>3.384</td>\n",
       "      <td>7.927</td>\n",
       "      <td>-0.0</td>\n",
       "      <td>0.037</td>\n",
       "      <td>0.654</td>\n",
       "      <td>3.275</td>\n",
       "      <td>154.972</td>\n",
       "    </tr>\n",
       "    <tr>\n",
       "      <th>TaiESM1</th>\n",
       "      <td>36791.0</td>\n",
       "      <td>3.418</td>\n",
       "      <td>7.559</td>\n",
       "      <td>-0.0</td>\n",
       "      <td>0.049</td>\n",
       "      <td>0.668</td>\n",
       "      <td>3.234</td>\n",
       "      <td>167.356</td>\n",
       "    </tr>\n",
       "    <tr>\n",
       "      <th>Observed</th>\n",
       "      <td>36791.0</td>\n",
       "      <td>2.726</td>\n",
       "      <td>8.078</td>\n",
       "      <td>0.0</td>\n",
       "      <td>0.008</td>\n",
       "      <td>0.163</td>\n",
       "      <td>1.613</td>\n",
       "      <td>192.933</td>\n",
       "    </tr>\n",
       "  </tbody>\n",
       "</table>\n",
       "</div>"
      ],
      "text/plain": [
       "                    count   mean    std  min    25%    50%    75%      max\n",
       "ACCESS-CM2        36791.0  2.429  6.791  0.0  0.054  0.193  1.445  149.968\n",
       "ACCESS-ESM1-5     36791.0  2.939  7.049  0.0  0.021  0.493  2.399  157.606\n",
       "AWI-ESM-1-1-LR    36791.0  3.716  7.281  0.0  0.030  0.592  3.602   89.466\n",
       "BCC-CSM2-MR       36791.0  2.203  6.518  0.0  0.001  0.096  1.319  134.465\n",
       "BCC-ESM1          36791.0  2.748  5.997  0.0  0.002  0.299  2.478   87.135\n",
       "CMCC-CM2-HR4      36791.0  3.093  6.459  0.0  0.138  0.634  3.183  124.952\n",
       "CMCC-CM2-SR5      36791.0  3.575  7.353 -0.0  0.089  0.828  3.728  140.148\n",
       "CMCC-ESM2         36791.0  3.490  7.039 -0.0  0.093  0.849  3.630  137.592\n",
       "CanESM5           36791.0  2.879  6.899  0.0  0.022  0.338  2.559  135.570\n",
       "EC-Earth3-Veg-LR  36791.0  2.565  5.733 -0.0  0.012  0.430  2.296   96.424\n",
       "FGOALS-g3         36791.0  1.736  4.473  0.0  0.027  0.285  1.336  105.090\n",
       "GFDL-CM4          36791.0  1.804  5.715  0.0  0.004  0.121  0.947  123.151\n",
       "INM-CM4-8         36791.0  3.860  7.555  0.0  0.115  1.220  4.206  134.262\n",
       "INM-CM5-0         36791.0  4.079  8.280  0.0  0.082  1.166  4.261  133.974\n",
       "KIOST-ESM         36791.0  1.683  4.262  0.0  0.020  0.292  1.571  100.232\n",
       "MIROC6            36791.0  3.117  7.798  0.0  0.019  0.351  2.291  167.150\n",
       "MPI-ESM-1-2-HAM   36791.0  3.214  6.979  0.0  0.000  0.208  2.699   93.068\n",
       "MPI-ESM1-2-HR     36791.0  1.299  4.891  0.0  0.000  0.002  0.347  109.501\n",
       "MPI-ESM1-2-LR     36791.0  2.041  5.348  0.0  0.000  0.114  1.192   74.844\n",
       "MRI-ESM2-0        36791.0  1.533  5.000  0.0  0.000  0.032  0.673  101.690\n",
       "NESM3             36791.0  1.727  4.873  0.0  0.000  0.050  0.787   80.458\n",
       "NorESM2-LM        36791.0  2.458  5.815  0.0  0.005  0.170  1.823  114.898\n",
       "NorESM2-MM        36791.0  2.890  7.129  0.0  0.010  0.256  2.451  163.165\n",
       "SAM0-UNICON       36791.0  3.384  7.927 -0.0  0.037  0.654  3.275  154.972\n",
       "TaiESM1           36791.0  3.418  7.559 -0.0  0.049  0.668  3.234  167.356\n",
       "Observed          36791.0  2.726  8.078  0.0  0.008  0.163  1.613  192.933"
      ]
     },
     "execution_count": 14,
     "metadata": {},
     "output_type": "execute_result"
    }
   ],
   "source": [
    "train_df.describe().round(3).T"
   ]
  },
  {
   "attachments": {},
   "cell_type": "markdown",
   "metadata": {},
   "source": [
    "### Train Ensemble Model\n",
    "\n",
    "An ensemble model based on `RandomForestRegressor` has been created and the performance is measured using RMSE (root-mean-square error). The best RMSE score a model can get is 0, which means there is no difference between the actual and predicted values."
   ]
  },
  {
   "cell_type": "code",
   "execution_count": 15,
   "metadata": {},
   "outputs": [],
   "source": [
    "X_train = train_df.drop(columns=[target_column])\n",
    "X_test = test_df.drop(columns=[target_column])\n",
    "\n",
    "y_train = train_df[target_column]\n",
    "y_test = test_df[target_column]"
   ]
  },
  {
   "cell_type": "code",
   "execution_count": 16,
   "metadata": {},
   "outputs": [
    {
     "data": {
      "text/html": [
       "<style>#sk-container-id-1 {color: black;background-color: white;}#sk-container-id-1 pre{padding: 0;}#sk-container-id-1 div.sk-toggleable {background-color: white;}#sk-container-id-1 label.sk-toggleable__label {cursor: pointer;display: block;width: 100%;margin-bottom: 0;padding: 0.3em;box-sizing: border-box;text-align: center;}#sk-container-id-1 label.sk-toggleable__label-arrow:before {content: \"▸\";float: left;margin-right: 0.25em;color: #696969;}#sk-container-id-1 label.sk-toggleable__label-arrow:hover:before {color: black;}#sk-container-id-1 div.sk-estimator:hover label.sk-toggleable__label-arrow:before {color: black;}#sk-container-id-1 div.sk-toggleable__content {max-height: 0;max-width: 0;overflow: hidden;text-align: left;background-color: #f0f8ff;}#sk-container-id-1 div.sk-toggleable__content pre {margin: 0.2em;color: black;border-radius: 0.25em;background-color: #f0f8ff;}#sk-container-id-1 input.sk-toggleable__control:checked~div.sk-toggleable__content {max-height: 200px;max-width: 100%;overflow: auto;}#sk-container-id-1 input.sk-toggleable__control:checked~label.sk-toggleable__label-arrow:before {content: \"▾\";}#sk-container-id-1 div.sk-estimator input.sk-toggleable__control:checked~label.sk-toggleable__label {background-color: #d4ebff;}#sk-container-id-1 div.sk-label input.sk-toggleable__control:checked~label.sk-toggleable__label {background-color: #d4ebff;}#sk-container-id-1 input.sk-hidden--visually {border: 0;clip: rect(1px 1px 1px 1px);clip: rect(1px, 1px, 1px, 1px);height: 1px;margin: -1px;overflow: hidden;padding: 0;position: absolute;width: 1px;}#sk-container-id-1 div.sk-estimator {font-family: monospace;background-color: #f0f8ff;border: 1px dotted black;border-radius: 0.25em;box-sizing: border-box;margin-bottom: 0.5em;}#sk-container-id-1 div.sk-estimator:hover {background-color: #d4ebff;}#sk-container-id-1 div.sk-parallel-item::after {content: \"\";width: 100%;border-bottom: 1px solid gray;flex-grow: 1;}#sk-container-id-1 div.sk-label:hover label.sk-toggleable__label {background-color: #d4ebff;}#sk-container-id-1 div.sk-serial::before {content: \"\";position: absolute;border-left: 1px solid gray;box-sizing: border-box;top: 0;bottom: 0;left: 50%;z-index: 0;}#sk-container-id-1 div.sk-serial {display: flex;flex-direction: column;align-items: center;background-color: white;padding-right: 0.2em;padding-left: 0.2em;position: relative;}#sk-container-id-1 div.sk-item {position: relative;z-index: 1;}#sk-container-id-1 div.sk-parallel {display: flex;align-items: stretch;justify-content: center;background-color: white;position: relative;}#sk-container-id-1 div.sk-item::before, #sk-container-id-1 div.sk-parallel-item::before {content: \"\";position: absolute;border-left: 1px solid gray;box-sizing: border-box;top: 0;bottom: 0;left: 50%;z-index: -1;}#sk-container-id-1 div.sk-parallel-item {display: flex;flex-direction: column;z-index: 1;position: relative;background-color: white;}#sk-container-id-1 div.sk-parallel-item:first-child::after {align-self: flex-end;width: 50%;}#sk-container-id-1 div.sk-parallel-item:last-child::after {align-self: flex-start;width: 50%;}#sk-container-id-1 div.sk-parallel-item:only-child::after {width: 0;}#sk-container-id-1 div.sk-dashed-wrapped {border: 1px dashed gray;margin: 0 0.4em 0.5em 0.4em;box-sizing: border-box;padding-bottom: 0.4em;background-color: white;}#sk-container-id-1 div.sk-label label {font-family: monospace;font-weight: bold;display: inline-block;line-height: 1.2em;}#sk-container-id-1 div.sk-label-container {text-align: center;}#sk-container-id-1 div.sk-container {/* jupyter's `normalize.less` sets `[hidden] { display: none; }` but bootstrap.min.css set `[hidden] { display: none !important; }` so we also need the `!important` here to be able to override the default hidden behavior on the sphinx rendered scikit-learn.org. See: https://github.com/scikit-learn/scikit-learn/issues/21755 */display: inline-block !important;position: relative;}#sk-container-id-1 div.sk-text-repr-fallback {display: none;}</style><div id=\"sk-container-id-1\" class=\"sk-top-container\"><div class=\"sk-text-repr-fallback\"><pre>RandomForestRegressor(random_state=123)</pre><b>In a Jupyter environment, please rerun this cell to show the HTML representation or trust the notebook. <br />On GitHub, the HTML representation is unable to render, please try loading this page with nbviewer.org.</b></div><div class=\"sk-container\" hidden><div class=\"sk-item\"><div class=\"sk-estimator sk-toggleable\"><input class=\"sk-toggleable__control sk-hidden--visually\" id=\"sk-estimator-id-1\" type=\"checkbox\" checked><label for=\"sk-estimator-id-1\" class=\"sk-toggleable__label sk-toggleable__label-arrow\">RandomForestRegressor</label><div class=\"sk-toggleable__content\"><pre>RandomForestRegressor(random_state=123)</pre></div></div></div></div></div>"
      ],
      "text/plain": [
       "RandomForestRegressor(random_state=123)"
      ]
     },
     "execution_count": 16,
     "metadata": {},
     "output_type": "execute_result"
    }
   ],
   "source": [
    "rf_regressor = RandomForestRegressor(random_state=random_state)\n",
    "rf_regressor.fit(X_train, y_train)"
   ]
  },
  {
   "cell_type": "code",
   "execution_count": 17,
   "metadata": {},
   "outputs": [],
   "source": [
    "predictions = rf_regressor.predict(X_test)"
   ]
  },
  {
   "cell_type": "code",
   "execution_count": 18,
   "metadata": {},
   "outputs": [
    {
     "data": {
      "text/plain": [
       "8.860047622369347"
      ]
     },
     "execution_count": 18,
     "metadata": {},
     "output_type": "execute_result"
    }
   ],
   "source": [
    "rmse = mean_squared_error(y_test, predictions, squared=False)\n",
    "rmse"
   ]
  },
  {
   "attachments": {},
   "cell_type": "markdown",
   "metadata": {},
   "source": [
    "### Evaluate the Results\n",
    "\n",
    "From the Random Forest regressor, we get a RMSE of 8.860. Here, we are going to list the RMSEs of the individual models in the constituent. (Notice we are using only the test split to calculate for all models.)\n",
    "\n",
    "We are seeing better results, in terms of RMSEs in the test split, compared with all of the constituent models within the regressor."
   ]
  },
  {
   "cell_type": "code",
   "execution_count": 19,
   "metadata": {},
   "outputs": [
    {
     "data": {
      "text/html": [
       "<div>\n",
       "<style scoped>\n",
       "    .dataframe tbody tr th:only-of-type {\n",
       "        vertical-align: middle;\n",
       "    }\n",
       "\n",
       "    .dataframe tbody tr th {\n",
       "        vertical-align: top;\n",
       "    }\n",
       "\n",
       "    .dataframe thead th {\n",
       "        text-align: right;\n",
       "    }\n",
       "</style>\n",
       "<table border=\"1\" class=\"dataframe\">\n",
       "  <thead>\n",
       "    <tr style=\"text-align: right;\">\n",
       "      <th></th>\n",
       "      <th>rmse_test</th>\n",
       "      <th>rmse_train</th>\n",
       "    </tr>\n",
       "    <tr>\n",
       "      <th>models</th>\n",
       "      <th></th>\n",
       "      <th></th>\n",
       "    </tr>\n",
       "  </thead>\n",
       "  <tbody>\n",
       "    <tr>\n",
       "      <th>KIOST-ESM</th>\n",
       "      <td>9.600480</td>\n",
       "      <td>9.196532</td>\n",
       "    </tr>\n",
       "    <tr>\n",
       "      <th>FGOALS-g3</th>\n",
       "      <td>9.687788</td>\n",
       "      <td>9.284867</td>\n",
       "    </tr>\n",
       "    <tr>\n",
       "      <th>MRI-ESM2-0</th>\n",
       "      <td>9.922795</td>\n",
       "      <td>9.609047</td>\n",
       "    </tr>\n",
       "    <tr>\n",
       "      <th>MPI-ESM1-2-HR</th>\n",
       "      <td>9.969823</td>\n",
       "      <td>9.489925</td>\n",
       "    </tr>\n",
       "    <tr>\n",
       "      <th>NESM3</th>\n",
       "      <td>9.978137</td>\n",
       "      <td>9.371897</td>\n",
       "    </tr>\n",
       "    <tr>\n",
       "      <th>MPI-ESM1-2-LR</th>\n",
       "      <td>10.260886</td>\n",
       "      <td>9.681899</td>\n",
       "    </tr>\n",
       "    <tr>\n",
       "      <th>NorESM2-LM</th>\n",
       "      <td>10.410145</td>\n",
       "      <td>9.918216</td>\n",
       "    </tr>\n",
       "    <tr>\n",
       "      <th>EC-Earth3-Veg-LR</th>\n",
       "      <td>10.453606</td>\n",
       "      <td>9.902149</td>\n",
       "    </tr>\n",
       "    <tr>\n",
       "      <th>GFDL-CM4</th>\n",
       "      <td>10.511682</td>\n",
       "      <td>9.889638</td>\n",
       "    </tr>\n",
       "    <tr>\n",
       "      <th>BCC-ESM1</th>\n",
       "      <td>10.615578</td>\n",
       "      <td>10.071200</td>\n",
       "    </tr>\n",
       "    <tr>\n",
       "      <th>CMCC-CM2-HR4</th>\n",
       "      <td>10.643204</td>\n",
       "      <td>10.353439</td>\n",
       "    </tr>\n",
       "    <tr>\n",
       "      <th>ACCESS-ESM1-5</th>\n",
       "      <td>10.695305</td>\n",
       "      <td>10.643536</td>\n",
       "    </tr>\n",
       "    <tr>\n",
       "      <th>BCC-CSM2-MR</th>\n",
       "      <td>10.761381</td>\n",
       "      <td>10.294775</td>\n",
       "    </tr>\n",
       "    <tr>\n",
       "      <th>MPI-ESM-1-2-HAM</th>\n",
       "      <td>10.932004</td>\n",
       "      <td>10.615042</td>\n",
       "    </tr>\n",
       "    <tr>\n",
       "      <th>NorESM2-MM</th>\n",
       "      <td>10.939740</td>\n",
       "      <td>10.683340</td>\n",
       "    </tr>\n",
       "    <tr>\n",
       "      <th>AWI-ESM-1-1-LR</th>\n",
       "      <td>10.996616</td>\n",
       "      <td>10.876956</td>\n",
       "    </tr>\n",
       "    <tr>\n",
       "      <th>ACCESS-CM2</th>\n",
       "      <td>11.038999</td>\n",
       "      <td>10.567243</td>\n",
       "    </tr>\n",
       "    <tr>\n",
       "      <th>CanESM5</th>\n",
       "      <td>11.151318</td>\n",
       "      <td>10.571301</td>\n",
       "    </tr>\n",
       "    <tr>\n",
       "      <th>CMCC-ESM2</th>\n",
       "      <td>11.246493</td>\n",
       "      <td>10.713240</td>\n",
       "    </tr>\n",
       "    <tr>\n",
       "      <th>MIROC6</th>\n",
       "      <td>11.352976</td>\n",
       "      <td>11.235601</td>\n",
       "    </tr>\n",
       "    <tr>\n",
       "      <th>INM-CM4-8</th>\n",
       "      <td>11.451635</td>\n",
       "      <td>11.088450</td>\n",
       "    </tr>\n",
       "    <tr>\n",
       "      <th>CMCC-CM2-SR5</th>\n",
       "      <td>11.480614</td>\n",
       "      <td>10.935517</td>\n",
       "    </tr>\n",
       "    <tr>\n",
       "      <th>TaiESM1</th>\n",
       "      <td>11.528083</td>\n",
       "      <td>11.008567</td>\n",
       "    </tr>\n",
       "    <tr>\n",
       "      <th>SAM0-UNICON</th>\n",
       "      <td>11.678749</td>\n",
       "      <td>11.318714</td>\n",
       "    </tr>\n",
       "    <tr>\n",
       "      <th>INM-CM5-0</th>\n",
       "      <td>12.250223</td>\n",
       "      <td>11.624718</td>\n",
       "    </tr>\n",
       "  </tbody>\n",
       "</table>\n",
       "</div>"
      ],
      "text/plain": [
       "                  rmse_test  rmse_train\n",
       "models                                 \n",
       "KIOST-ESM          9.600480    9.196532\n",
       "FGOALS-g3          9.687788    9.284867\n",
       "MRI-ESM2-0         9.922795    9.609047\n",
       "MPI-ESM1-2-HR      9.969823    9.489925\n",
       "NESM3              9.978137    9.371897\n",
       "MPI-ESM1-2-LR     10.260886    9.681899\n",
       "NorESM2-LM        10.410145    9.918216\n",
       "EC-Earth3-Veg-LR  10.453606    9.902149\n",
       "GFDL-CM4          10.511682    9.889638\n",
       "BCC-ESM1          10.615578   10.071200\n",
       "CMCC-CM2-HR4      10.643204   10.353439\n",
       "ACCESS-ESM1-5     10.695305   10.643536\n",
       "BCC-CSM2-MR       10.761381   10.294775\n",
       "MPI-ESM-1-2-HAM   10.932004   10.615042\n",
       "NorESM2-MM        10.939740   10.683340\n",
       "AWI-ESM-1-1-LR    10.996616   10.876956\n",
       "ACCESS-CM2        11.038999   10.567243\n",
       "CanESM5           11.151318   10.571301\n",
       "CMCC-ESM2         11.246493   10.713240\n",
       "MIROC6            11.352976   11.235601\n",
       "INM-CM4-8         11.451635   11.088450\n",
       "CMCC-CM2-SR5      11.480614   10.935517\n",
       "TaiESM1           11.528083   11.008567\n",
       "SAM0-UNICON       11.678749   11.318714\n",
       "INM-CM5-0         12.250223   11.624718"
      ]
     },
     "execution_count": 19,
     "metadata": {},
     "output_type": "execute_result"
    }
   ],
   "source": [
    "constituent_models = X_test.columns.to_list()\n",
    "\n",
    "rmse_test = [mean_squared_error(y_test, X_test[col], squared=False) for col in constituent_models]\n",
    "rmse_train = [mean_squared_error(y_train, X_train[col], squared=False) for col in constituent_models]\n",
    "\n",
    "pd.DataFrame({\n",
    "    'models': constituent_models,\n",
    "    'rmse_test': rmse_test,\n",
    "    'rmse_train': rmse_train\n",
    "}).set_index('models').sort_values('rmse_test')"
   ]
  },
  {
   "attachments": {},
   "cell_type": "markdown",
   "metadata": {},
   "source": [
    "## Part 2\n",
    "\n",
    "Here, we use the tuned hyperparameter (from [Task 4](Milestone3-task4.ipynb)) and use the same hyperparameter to train a `scikit-learn` model.\n",
    "\n",
    "From there, we obtained `n_estimators=100`, `max_depth=5` and `bootstrap=True`."
   ]
  },
  {
   "cell_type": "code",
   "execution_count": 20,
   "metadata": {},
   "outputs": [
    {
     "data": {
      "text/html": [
       "<style>#sk-container-id-2 {color: black;background-color: white;}#sk-container-id-2 pre{padding: 0;}#sk-container-id-2 div.sk-toggleable {background-color: white;}#sk-container-id-2 label.sk-toggleable__label {cursor: pointer;display: block;width: 100%;margin-bottom: 0;padding: 0.3em;box-sizing: border-box;text-align: center;}#sk-container-id-2 label.sk-toggleable__label-arrow:before {content: \"▸\";float: left;margin-right: 0.25em;color: #696969;}#sk-container-id-2 label.sk-toggleable__label-arrow:hover:before {color: black;}#sk-container-id-2 div.sk-estimator:hover label.sk-toggleable__label-arrow:before {color: black;}#sk-container-id-2 div.sk-toggleable__content {max-height: 0;max-width: 0;overflow: hidden;text-align: left;background-color: #f0f8ff;}#sk-container-id-2 div.sk-toggleable__content pre {margin: 0.2em;color: black;border-radius: 0.25em;background-color: #f0f8ff;}#sk-container-id-2 input.sk-toggleable__control:checked~div.sk-toggleable__content {max-height: 200px;max-width: 100%;overflow: auto;}#sk-container-id-2 input.sk-toggleable__control:checked~label.sk-toggleable__label-arrow:before {content: \"▾\";}#sk-container-id-2 div.sk-estimator input.sk-toggleable__control:checked~label.sk-toggleable__label {background-color: #d4ebff;}#sk-container-id-2 div.sk-label input.sk-toggleable__control:checked~label.sk-toggleable__label {background-color: #d4ebff;}#sk-container-id-2 input.sk-hidden--visually {border: 0;clip: rect(1px 1px 1px 1px);clip: rect(1px, 1px, 1px, 1px);height: 1px;margin: -1px;overflow: hidden;padding: 0;position: absolute;width: 1px;}#sk-container-id-2 div.sk-estimator {font-family: monospace;background-color: #f0f8ff;border: 1px dotted black;border-radius: 0.25em;box-sizing: border-box;margin-bottom: 0.5em;}#sk-container-id-2 div.sk-estimator:hover {background-color: #d4ebff;}#sk-container-id-2 div.sk-parallel-item::after {content: \"\";width: 100%;border-bottom: 1px solid gray;flex-grow: 1;}#sk-container-id-2 div.sk-label:hover label.sk-toggleable__label {background-color: #d4ebff;}#sk-container-id-2 div.sk-serial::before {content: \"\";position: absolute;border-left: 1px solid gray;box-sizing: border-box;top: 0;bottom: 0;left: 50%;z-index: 0;}#sk-container-id-2 div.sk-serial {display: flex;flex-direction: column;align-items: center;background-color: white;padding-right: 0.2em;padding-left: 0.2em;position: relative;}#sk-container-id-2 div.sk-item {position: relative;z-index: 1;}#sk-container-id-2 div.sk-parallel {display: flex;align-items: stretch;justify-content: center;background-color: white;position: relative;}#sk-container-id-2 div.sk-item::before, #sk-container-id-2 div.sk-parallel-item::before {content: \"\";position: absolute;border-left: 1px solid gray;box-sizing: border-box;top: 0;bottom: 0;left: 50%;z-index: -1;}#sk-container-id-2 div.sk-parallel-item {display: flex;flex-direction: column;z-index: 1;position: relative;background-color: white;}#sk-container-id-2 div.sk-parallel-item:first-child::after {align-self: flex-end;width: 50%;}#sk-container-id-2 div.sk-parallel-item:last-child::after {align-self: flex-start;width: 50%;}#sk-container-id-2 div.sk-parallel-item:only-child::after {width: 0;}#sk-container-id-2 div.sk-dashed-wrapped {border: 1px dashed gray;margin: 0 0.4em 0.5em 0.4em;box-sizing: border-box;padding-bottom: 0.4em;background-color: white;}#sk-container-id-2 div.sk-label label {font-family: monospace;font-weight: bold;display: inline-block;line-height: 1.2em;}#sk-container-id-2 div.sk-label-container {text-align: center;}#sk-container-id-2 div.sk-container {/* jupyter's `normalize.less` sets `[hidden] { display: none; }` but bootstrap.min.css set `[hidden] { display: none !important; }` so we also need the `!important` here to be able to override the default hidden behavior on the sphinx rendered scikit-learn.org. See: https://github.com/scikit-learn/scikit-learn/issues/21755 */display: inline-block !important;position: relative;}#sk-container-id-2 div.sk-text-repr-fallback {display: none;}</style><div id=\"sk-container-id-2\" class=\"sk-top-container\"><div class=\"sk-text-repr-fallback\"><pre>RandomForestRegressor(max_depth=5, random_state=123)</pre><b>In a Jupyter environment, please rerun this cell to show the HTML representation or trust the notebook. <br />On GitHub, the HTML representation is unable to render, please try loading this page with nbviewer.org.</b></div><div class=\"sk-container\" hidden><div class=\"sk-item\"><div class=\"sk-estimator sk-toggleable\"><input class=\"sk-toggleable__control sk-hidden--visually\" id=\"sk-estimator-id-2\" type=\"checkbox\" checked><label for=\"sk-estimator-id-2\" class=\"sk-toggleable__label sk-toggleable__label-arrow\">RandomForestRegressor</label><div class=\"sk-toggleable__content\"><pre>RandomForestRegressor(max_depth=5, random_state=123)</pre></div></div></div></div></div>"
      ],
      "text/plain": [
       "RandomForestRegressor(max_depth=5, random_state=123)"
      ]
     },
     "execution_count": 20,
     "metadata": {},
     "output_type": "execute_result"
    }
   ],
   "source": [
    "model = RandomForestRegressor(n_estimators=100, max_depth=5, bootstrap=True, random_state=random_state)\n",
    "model.fit(X_train, y_train)"
   ]
  },
  {
   "cell_type": "code",
   "execution_count": 21,
   "metadata": {},
   "outputs": [
    {
     "name": "stdout",
     "output_type": "stream",
     "text": [
      "Train RMSE: 7.89\n",
      " Test RMSE: 8.66\n"
     ]
    }
   ],
   "source": [
    "print(f\"Train RMSE: {mean_squared_error(y_train, model.predict(X_train), squared=False):.2f}\")\n",
    "print(f\" Test RMSE: {mean_squared_error(y_test, model.predict(X_test), squared=False):.2f}\")"
   ]
  },
  {
   "cell_type": "code",
   "execution_count": 22,
   "metadata": {},
   "outputs": [],
   "source": [
    "model_dump_file = \"model.joblib\""
   ]
  },
  {
   "cell_type": "code",
   "execution_count": 23,
   "metadata": {},
   "outputs": [
    {
     "data": {
      "text/plain": [
       "['model.joblib']"
      ]
     },
     "execution_count": 23,
     "metadata": {},
     "output_type": "execute_result"
    }
   ],
   "source": [
    "dump(model, model_dump_file)"
   ]
  },
  {
   "cell_type": "code",
   "execution_count": 24,
   "metadata": {},
   "outputs": [],
   "source": [
    "upload_to_s3 = False\n",
    "\n",
    "if upload_to_s3:\n",
    "    import logging\n",
    "    import boto3\n",
    "    from botocore.exceptions import ClientError\n",
    "\n",
    "    s3_client = boto3.client('s3')\n",
    "    try:\n",
    "        response = s3_client.upload_file(model_dump_file, s3_bucket_name, f\"output/{model_dump_file}\")\n",
    "    except ClientError as e:\n",
    "        logging.error(e)"
   ]
  }
 ],
 "metadata": {
  "kernelspec": {
   "display_name": "dsci525",
   "language": "python",
   "name": "python3"
  },
  "language_info": {
   "codemirror_mode": {
    "name": "ipython",
    "version": 3
   },
   "file_extension": ".py",
   "mimetype": "text/x-python",
   "name": "python",
   "nbconvert_exporter": "python",
   "pygments_lexer": "ipython3",
   "version": "3.10.10"
  },
  "orig_nbformat": 4,
  "vscode": {
   "interpreter": {
    "hash": "958e63936bd5d56d9f411019c12c55a0a15d05f2d015bde08ea1de019e3a6d21"
   }
  }
 },
 "nbformat": 4,
 "nbformat_minor": 2
}
